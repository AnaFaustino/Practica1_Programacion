{
  "nbformat": 4,
  "nbformat_minor": 0,
  "metadata": {
    "colab": {
      "provenance": [],
      "include_colab_link": true
    },
    "kernelspec": {
      "name": "python3",
      "display_name": "Python 3"
    },
    "language_info": {
      "name": "python"
    }
  },
  "cells": [
    {
      "cell_type": "markdown",
      "metadata": {
        "id": "view-in-github",
        "colab_type": "text"
      },
      "source": [
        "<a href=\"https://colab.research.google.com/github/AnaFaustino/Practica2/blob/main/Untitled9.ipynb\" target=\"_parent\"><img src=\"https://colab.research.google.com/assets/colab-badge.svg\" alt=\"Open In Colab\"/></a>"
      ]
    },
    {
      "cell_type": "code",
      "source": [
        "\n",
        "\n",
        "def cadena(S):\n",
        "  \"\"\"Verifica si una cadena S de parentesis esta bien formada\n",
        "  True si la cadena se encuentra bien formada y\n",
        "  False de lo contrario\"\"\"\n",
        "  parentesis = 0\n",
        "  for x in S:\n",
        "        if x == '(':\n",
        "            parentesis += 1\n",
        "        elif x == ')':\n",
        "            parentesis -= 1\n",
        "            if parentesis < 0:\n",
        "                return False\n",
        "  return parentesis == 0\n",
        "\n",
        "def main():\n",
        "    S = input(\"Ingrese una cadena de paréntesis: \")\n",
        "\n",
        "    if cadena(S):\n",
        "        print(\"La secuencia de paréntesis está bien formada.\")\n",
        "    else:\n",
        "        print(\"La secuencia de paréntesis NO está bien formada.\")\n",
        "\n",
        "if __name__ == \"__main__\":\n",
        "    main()"
      ],
      "metadata": {
        "id": "4tVvSbqjDirQ"
      },
      "execution_count": null,
      "outputs": []
    }
  ]
}